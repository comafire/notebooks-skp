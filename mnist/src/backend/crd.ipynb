{
 "cells": [
  {
   "cell_type": "code",
   "execution_count": 1,
   "metadata": {},
   "outputs": [
    {
     "data": {
      "text/html": [
       "<style>.container { width:100% !important; }</style>"
      ],
      "text/plain": [
       "<IPython.core.display.HTML object>"
      ]
     },
     "metadata": {},
     "output_type": "display_data"
    }
   ],
   "source": [
    "# 기본 환경 로드\n",
    "%run ./env.ipynb"
   ]
  },
  {
   "cell_type": "markdown",
   "metadata": {},
   "source": [
    "# Collect Raw Data\n",
    "\n",
    "데이터 수집은 일 단위로 이루어지며, 환경 변수를 통해 날짜를 받습니다.\n"
   ]
  },
  {
   "cell_type": "code",
   "execution_count": 2,
   "metadata": {},
   "outputs": [
    {
     "name": "stdout",
     "output_type": "stream",
     "text": [
      "sdate: 2018070108\n",
      "path_base: /root/mnt/dfs/notebooks-skp/mnist\n",
      "path_data: /root/mnt/dfs/data/mnist\n"
     ]
    }
   ],
   "source": [
    "from utils import *\n",
    "\n",
    "sdate = get_env_sdate(default = \"2018070108\")\n",
    "path_base = get_env_path_base(default = \"/root/mnt/dfs/notebooks-skp/mnist\")\n",
    "path_data = get_env_path_date(default = \"/root/mnt/dfs/data/mnist\")\n",
    "\n",
    "print(\"sdate: {}\".format(sdate))\n",
    "print(\"path_base: {}\".format(path_base))\n",
    "print(\"path_data: {}\".format(path_data))"
   ]
  },
  {
   "cell_type": "code",
   "execution_count": 3,
   "metadata": {},
   "outputs": [
    {
     "name": "stderr",
     "output_type": "stream",
     "text": [
      "Using TensorFlow backend.\n"
     ]
    },
    {
     "data": {
      "text/plain": [
       "<function keras.datasets.mnist.load_data(path='mnist.npz')>"
      ]
     },
     "execution_count": 3,
     "metadata": {},
     "output_type": "execute_result"
    }
   ],
   "source": [
    "import keras\n",
    "from keras.datasets import mnist\n",
    "import numpy as np\n",
    "\n",
    "# 데이터 로드\n",
    "path_raw = os.path.join(path_data, \"raw\")\n",
    "path_raw_sdate = os.path.join(path_raw, sdate)\n",
    "os.makedirs(path_raw_sdate, exist_ok=True)\n",
    "\n",
    "path_mnist = os.path.join(path_raw_sdate, \"mnist.npz\")\n",
    "(np_train_xs, np_train_ys), (np_test_xs, np_test_ys) = mnist.load_data(path = path_mnist)\n",
    "mnist.load_data"
   ]
  },
  {
   "cell_type": "code",
   "execution_count": 4,
   "metadata": {},
   "outputs": [
    {
     "data": {
      "text/plain": [
       "(60000, 28, 28)"
      ]
     },
     "execution_count": 4,
     "metadata": {},
     "output_type": "execute_result"
    },
    {
     "data": {
      "text/plain": [
       "(60000,)"
      ]
     },
     "execution_count": 4,
     "metadata": {},
     "output_type": "execute_result"
    },
    {
     "data": {
      "text/plain": [
       "(10000, 28, 28)"
      ]
     },
     "execution_count": 4,
     "metadata": {},
     "output_type": "execute_result"
    },
    {
     "data": {
      "text/plain": [
       "(10000,)"
      ]
     },
     "execution_count": 4,
     "metadata": {},
     "output_type": "execute_result"
    }
   ],
   "source": [
    "np_train_xs.shape\n",
    "np_train_ys.shape\n",
    "np_test_xs.shape\n",
    "np_test_ys.shape"
   ]
  },
  {
   "cell_type": "code",
   "execution_count": 5,
   "metadata": {},
   "outputs": [
    {
     "data": {
      "text/plain": [
       "['/root/mnt/dfs/data/mnist/raw/2018070108/train_xs.pkl']"
      ]
     },
     "execution_count": 5,
     "metadata": {},
     "output_type": "execute_result"
    },
    {
     "data": {
      "text/plain": [
       "['/root/mnt/dfs/data/mnist/raw/2018070108/train_ys.pkl']"
      ]
     },
     "execution_count": 5,
     "metadata": {},
     "output_type": "execute_result"
    },
    {
     "data": {
      "text/plain": [
       "['/root/mnt/dfs/data/mnist/raw/2018070108/test_xs.pkl']"
      ]
     },
     "execution_count": 5,
     "metadata": {},
     "output_type": "execute_result"
    },
    {
     "data": {
      "text/plain": [
       "['/root/mnt/dfs/data/mnist/raw/2018070108/test_ys.pkl']"
      ]
     },
     "execution_count": 5,
     "metadata": {},
     "output_type": "execute_result"
    }
   ],
   "source": [
    "# 데이터 저장\n",
    "import os\n",
    "from sklearn.externals import joblib \n",
    "\n",
    "path_train_xs = os.path.join(path_raw_sdate, \"train_xs.pkl\")\n",
    "path_train_ys = os.path.join(path_raw_sdate, \"train_ys.pkl\")\n",
    "joblib.dump(np_train_xs, path_train_xs)\n",
    "joblib.dump(np_train_ys, path_train_ys)\n",
    "\n",
    "path_test_xs = os.path.join(path_raw_sdate, \"test_xs.pkl\")\n",
    "path_test_ys = os.path.join(path_raw_sdate, \"test_ys.pkl\")\n",
    "joblib.dump(np_test_xs, path_test_xs)\n",
    "joblib.dump(np_test_ys, path_test_ys)"
   ]
  },
  {
   "cell_type": "code",
   "execution_count": null,
   "metadata": {},
   "outputs": [],
   "source": []
  }
 ],
 "metadata": {
  "kernelspec": {
   "display_name": "Python 3",
   "language": "python",
   "name": "python3"
  },
  "language_info": {
   "codemirror_mode": {
    "name": "ipython",
    "version": 3
   },
   "file_extension": ".py",
   "mimetype": "text/x-python",
   "name": "python",
   "nbconvert_exporter": "python",
   "pygments_lexer": "ipython3",
   "version": "3.5.2"
  },
  "toc": {
   "base_numbering": 1,
   "nav_menu": {},
   "number_sections": true,
   "sideBar": true,
   "skip_h1_title": false,
   "title_cell": "Table of Contents",
   "title_sidebar": "Contents",
   "toc_cell": false,
   "toc_position": {},
   "toc_section_display": true,
   "toc_window_display": false
  }
 },
 "nbformat": 4,
 "nbformat_minor": 2
}
