{
 "cells": [
  {
   "cell_type": "code",
   "execution_count": 1,
   "metadata": {},
   "outputs": [
    {
     "data": {
      "text/html": [
       "<style>.container { width:100% !important; }</style>"
      ],
      "text/plain": [
       "<IPython.core.display.HTML object>"
      ]
     },
     "metadata": {},
     "output_type": "display_data"
    }
   ],
   "source": [
    "# 기본 환경 로드\n",
    "%run ./env.ipynb"
   ]
  },
  {
   "cell_type": "markdown",
   "metadata": {},
   "source": [
    "# Fit Data Model\n",
    "\n",
    "ETL를 통해 생성된 데이터셋을 이용하여 훈련을 통해 데이터 모델을 생성합니다."
   ]
  },
  {
   "cell_type": "code",
   "execution_count": 2,
   "metadata": {},
   "outputs": [
    {
     "name": "stdout",
     "output_type": "stream",
     "text": [
      "sdate: 2018070108\n",
      "path_base: /root/mnt/dfs/notebooks-skp/mnist\n",
      "path_data: /root/mnt/dfs/data/mnist\n"
     ]
    }
   ],
   "source": [
    "from utils import *\n",
    "\n",
    "sdate = get_env_sdate(default = \"2018070108\")\n",
    "path_base = get_env_path_base(default = \"/root/mnt/dfs/notebooks-skp/mnist\")\n",
    "path_data = get_env_path_date(default = \"/root/mnt/dfs/data/mnist\")\n",
    "\n",
    "print(\"sdate: {}\".format(sdate))\n",
    "print(\"path_base: {}\".format(path_base))\n",
    "print(\"path_data: {}\".format(path_data))"
   ]
  },
  {
   "cell_type": "code",
   "execution_count": 3,
   "metadata": {},
   "outputs": [
    {
     "name": "stdout",
     "output_type": "stream",
     "text": [
      "(60000, 784) (60000, 10)\n",
      "(10000, 784) (10000, 10)\n"
     ]
    }
   ],
   "source": [
    "# 데이터 로드\n",
    "import os\n",
    "from sklearn.externals import joblib \n",
    "\n",
    "path_etl = os.path.join(path_data, \"etl\")\n",
    "path_etl_sdate = os.path.join(path_etl, sdate)\n",
    "\n",
    "path_train_xs = os.path.join(path_etl_sdate, \"dnn-train_xs.pkl\")\n",
    "path_train_ys = os.path.join(path_etl_sdate, \"dnn-train_ys.pkl\")\n",
    "np_train_xs = joblib.load(path_train_xs)\n",
    "np_train_ys = joblib.load(path_train_ys)\n",
    "print(np_train_xs.shape, np_train_ys.shape)\n",
    "\n",
    "path_test_xs = os.path.join(path_etl_sdate, \"dnn-test_xs.pkl\")\n",
    "path_test_ys = os.path.join(path_etl_sdate, \"dnn-test_ys.pkl\")\n",
    "np_test_xs = joblib.load(path_test_xs)\n",
    "np_test_ys = joblib.load(path_test_ys)\n",
    "print(np_test_xs.shape, np_test_ys.shape)"
   ]
  },
  {
   "cell_type": "code",
   "execution_count": 4,
   "metadata": {},
   "outputs": [],
   "source": [
    "dim_x = np_train_xs.shape[1]\n",
    "n_class = np_train_ys.shape[1]"
   ]
  },
  {
   "cell_type": "code",
   "execution_count": 5,
   "metadata": {},
   "outputs": [
    {
     "name": "stderr",
     "output_type": "stream",
     "text": [
      "Using TensorFlow backend.\n"
     ]
    }
   ],
   "source": [
    "# Keras: set GPU options for Tensorflow Backend\n",
    "import tensorflow as tf\n",
    "from keras import backend as k\n",
    " \n",
    "config = tf.ConfigProto()\n",
    " \n",
    "# Don't pre-allocate memory; allocate as-needed\n",
    "config.gpu_options.allow_growth = True\n",
    " \n",
    "# Only allow a total of half the GPU memory to be allocated\n",
    "# config.gpu_options.per_process_gpu_memory_fraction = 0.5\n",
    " \n",
    "# Create a session with the above options specified.\n",
    "sess = tf.Session(config=config)\n",
    "k.tensorflow_backend.set_session(sess)"
   ]
  },
  {
   "cell_type": "code",
   "execution_count": 6,
   "metadata": {},
   "outputs": [
    {
     "name": "stdout",
     "output_type": "stream",
     "text": [
      "_________________________________________________________________\n",
      "Layer (type)                 Output Shape              Param #   \n",
      "=================================================================\n",
      "dense_1 (Dense)              (None, 256)               200960    \n",
      "_________________________________________________________________\n",
      "activation_1 (Activation)    (None, 256)               0         \n",
      "_________________________________________________________________\n",
      "dense_2 (Dense)              (None, 128)               32896     \n",
      "_________________________________________________________________\n",
      "activation_2 (Activation)    (None, 128)               0         \n",
      "_________________________________________________________________\n",
      "dense_3 (Dense)              (None, 20)                2580      \n",
      "_________________________________________________________________\n",
      "activation_3 (Activation)    (None, 20)                0         \n",
      "_________________________________________________________________\n",
      "dropout_1 (Dropout)          (None, 20)                0         \n",
      "_________________________________________________________________\n",
      "dense_4 (Dense)              (None, 10)                210       \n",
      "=================================================================\n",
      "Total params: 236,646\n",
      "Trainable params: 236,646\n",
      "Non-trainable params: 0\n",
      "_________________________________________________________________\n"
     ]
    }
   ],
   "source": [
    "# 모델 로드\n",
    "from fdm_model import create_dnn\n",
    "\n",
    "model = create_dnn(n_input=dim_x, n_class=n_class)\n",
    "model.summary()"
   ]
  },
  {
   "cell_type": "code",
   "execution_count": 7,
   "metadata": {
    "scrolled": false
   },
   "outputs": [
    {
     "name": "stdout",
     "output_type": "stream",
     "text": [
      "Train on 42000 samples, validate on 18000 samples\n",
      "Epoch 1/10\n",
      " - 1s - loss: 0.9575 - acc: 0.6631 - val_loss: 0.2129 - val_acc: 0.9434\n",
      "\n",
      "Epoch 00001: val_acc improved from -inf to 0.94339, saving model to /root/mnt/dfs/data/mnist/fdm/2018070108/dnn-best.hdf5\n",
      "Epoch 2/10\n",
      " - 1s - loss: 0.5025 - acc: 0.8228 - val_loss: 0.1674 - val_acc: 0.9555\n",
      "\n",
      "Epoch 00002: val_acc improved from 0.94339 to 0.95550, saving model to /root/mnt/dfs/data/mnist/fdm/2018070108/dnn-best.hdf5\n",
      "Epoch 3/10\n",
      " - 1s - loss: 0.4134 - acc: 0.8488 - val_loss: 0.1384 - val_acc: 0.9633\n",
      "\n",
      "Epoch 00003: val_acc improved from 0.95550 to 0.96328, saving model to /root/mnt/dfs/data/mnist/fdm/2018070108/dnn-best.hdf5\n",
      "Epoch 4/10\n",
      " - 1s - loss: 0.3646 - acc: 0.8599 - val_loss: 0.1404 - val_acc: 0.9654\n",
      "\n",
      "Epoch 00004: val_acc improved from 0.96328 to 0.96544, saving model to /root/mnt/dfs/data/mnist/fdm/2018070108/dnn-best.hdf5\n",
      "Epoch 5/10\n",
      " - 1s - loss: 0.3324 - acc: 0.8708 - val_loss: 0.1352 - val_acc: 0.9662\n",
      "\n",
      "Epoch 00005: val_acc improved from 0.96544 to 0.96622, saving model to /root/mnt/dfs/data/mnist/fdm/2018070108/dnn-best.hdf5\n",
      "Epoch 6/10\n",
      " - 1s - loss: 0.3085 - acc: 0.8757 - val_loss: 0.1348 - val_acc: 0.9696\n",
      "\n",
      "Epoch 00006: val_acc improved from 0.96622 to 0.96956, saving model to /root/mnt/dfs/data/mnist/fdm/2018070108/dnn-best.hdf5\n",
      "Epoch 7/10\n",
      " - 1s - loss: 0.2822 - acc: 0.8884 - val_loss: 0.1363 - val_acc: 0.9707\n",
      "\n",
      "Epoch 00007: val_acc improved from 0.96956 to 0.97067, saving model to /root/mnt/dfs/data/mnist/fdm/2018070108/dnn-best.hdf5\n",
      "Epoch 8/10\n",
      " - 1s - loss: 0.2419 - acc: 0.9072 - val_loss: 0.1331 - val_acc: 0.9711\n",
      "\n",
      "Epoch 00008: val_acc improved from 0.97067 to 0.97106, saving model to /root/mnt/dfs/data/mnist/fdm/2018070108/dnn-best.hdf5\n",
      "Epoch 9/10\n",
      " - 1s - loss: 0.2250 - acc: 0.9125 - val_loss: 0.1597 - val_acc: 0.9711\n",
      "\n",
      "Epoch 00009: val_acc improved from 0.97106 to 0.97111, saving model to /root/mnt/dfs/data/mnist/fdm/2018070108/dnn-best.hdf5\n",
      "Epoch 10/10\n",
      " - 1s - loss: 0.2232 - acc: 0.9150 - val_loss: 0.1464 - val_acc: 0.9720\n",
      "\n",
      "Epoch 00010: val_acc improved from 0.97111 to 0.97200, saving model to /root/mnt/dfs/data/mnist/fdm/2018070108/dnn-best.hdf5\n"
     ]
    }
   ],
   "source": [
    "from keras import callbacks\n",
    "\n",
    "# 훈련을 통해 제일 좋은 성능을 보인 모델만을 저장합니다.\n",
    "with sess.graph.as_default():\n",
    "    path_fdm = os.path.join(path_data, \"fdm\")\n",
    "    path_fdm_sdate = os.path.join(path_fdm, sdate)\n",
    "    os.makedirs(path_fdm_sdate, exist_ok=True)\n",
    "\n",
    "    # path_model = os.path.join(path_fdm_sdate, \"dnn-{epoch:02d}-{val_loss:.2f}.hdf5\")\n",
    "    path_model = os.path.join(path_fdm_sdate, \"dnn-best.hdf5\")\n",
    "\n",
    "    epochs = 10\n",
    "    batch_size = 100\n",
    "    checkpoint = callbacks.ModelCheckpoint(path_model, monitor='val_acc', verbose=1, save_best_only=True, mode='max')\n",
    "    earlystop = callbacks.EarlyStopping(monitor='val_acc', patience=int(epochs * 0.3), mode='auto')\n",
    "    callbacks_list = [checkpoint, earlystop]\n",
    "\n",
    "    history = model.fit(np_train_xs, np_train_ys, batch_size=batch_size, epochs=epochs, verbose=2, callbacks=callbacks_list, validation_split=0.3, shuffle=True)"
   ]
  },
  {
   "cell_type": "code",
   "execution_count": 8,
   "metadata": {},
   "outputs": [
    {
     "data": {
      "text/plain": [
       "[<matplotlib.lines.Line2D at 0x7f022786d908>]"
      ]
     },
     "execution_count": 8,
     "metadata": {},
     "output_type": "execute_result"
    },
    {
     "data": {
      "text/plain": [
       "[<matplotlib.lines.Line2D at 0x7f022786de10>]"
      ]
     },
     "execution_count": 8,
     "metadata": {},
     "output_type": "execute_result"
    },
    {
     "data": {
      "text/plain": [
       "<matplotlib.legend.Legend at 0x7f022786df60>"
      ]
     },
     "execution_count": 8,
     "metadata": {},
     "output_type": "execute_result"
    },
    {
     "data": {
      "image/png": "[encoded data removed]",
      "text/plain": [
       "<Figure size 432x288 with 1 Axes>"
      ]
     },
     "metadata": {},
     "output_type": "display_data"
    }
   ],
   "source": [
    "plt.plot(history.history['loss'], label='train')\n",
    "plt.plot(history.history['val_loss'], label='validation')\n",
    "plt.legend()\n",
    "plt.show()"
   ]
  },
  {
   "cell_type": "code",
   "execution_count": 9,
   "metadata": {},
   "outputs": [],
   "source": [
    "# 가중치 로드\n",
    "from keras import callbacks\n",
    "\n",
    "path_fdm = os.path.join(path_data, \"fdm\")\n",
    "path_fdm_sdate = os.path.join(path_fdm, sdate)\n",
    "\n",
    "# path_model = os.path.join(path_fdm_sdate, \"dnn-{epoch:02d}-{val_loss:.2f}.hdf5\")\n",
    "path_model = os.path.join(path_fdm_sdate, \"dnn-best.hdf5\")\n",
    "\n",
    "model.load_weights(path_model)"
   ]
  },
  {
   "cell_type": "code",
   "execution_count": 10,
   "metadata": {},
   "outputs": [
    {
     "name": "stdout",
     "output_type": "stream",
     "text": [
      "(10000, 10)\n"
     ]
    }
   ],
   "source": [
    "with sess.graph.as_default():\n",
    "    np_pred_ys = model.predict(np_test_xs)\n",
    "    print(np_pred_ys.shape)"
   ]
  },
  {
   "cell_type": "code",
   "execution_count": 11,
   "metadata": {},
   "outputs": [
    {
     "name": "stdout",
     "output_type": "stream",
     "text": [
      "\n",
      "\n",
      "             precision    recall  f1-score   support\n",
      "\n",
      "          0       0.98      0.99      0.98       980\n",
      "          1       0.99      0.98      0.99      1135\n",
      "          2       0.98      0.97      0.98      1032\n",
      "          3       0.96      0.98      0.97      1010\n",
      "          4       0.98      0.97      0.98       982\n",
      "          5       0.99      0.96      0.97       892\n",
      "          6       0.98      0.98      0.98       958\n",
      "          7       0.98      0.97      0.98      1028\n",
      "          8       0.94      0.97      0.96       974\n",
      "          9       0.98      0.97      0.97      1009\n",
      "\n",
      "avg / total       0.98      0.98      0.98     10000\n",
      "\n"
     ]
    }
   ],
   "source": [
    "from sklearn import metrics \n",
    "from sklearn.metrics import classification_report\n",
    "\n",
    "np_pred_ys = model.predict_classes(np_test_xs)\n",
    "np_real_ys = np.argmax(np_test_ys, axis=1)\n",
    "\n",
    "print(\"\\n\")\n",
    "print(classification_report(np_real_ys, np_pred_ys))"
   ]
  },
  {
   "cell_type": "code",
   "execution_count": null,
   "metadata": {},
   "outputs": [],
   "source": []
  }
 ],
 "metadata": {
  "kernelspec": {
   "display_name": "Python 3",
   "language": "python",
   "name": "python3"
  },
  "language_info": {
   "codemirror_mode": {
    "name": "ipython",
    "version": 3
   },
   "file_extension": ".py",
   "mimetype": "text/x-python",
   "name": "python",
   "nbconvert_exporter": "python",
   "pygments_lexer": "ipython3",
   "version": "3.5.2"
  },
  "toc": {
   "base_numbering": 1,
   "nav_menu": {},
   "number_sections": true,
   "sideBar": true,
   "skip_h1_title": false,
   "title_cell": "Table of Contents",
   "title_sidebar": "Contents",
   "toc_cell": false,
   "toc_position": {},
   "toc_section_display": "block",
   "toc_window_display": false
  }
 },
 "nbformat": 4,
 "nbformat_minor": 2
}
