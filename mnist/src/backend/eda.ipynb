{
 "cells": [
  {
   "cell_type": "code",
   "execution_count": 1,
   "metadata": {},
   "outputs": [
    {
     "data": {
      "text/html": [
       "<style>.container { width:100% !important; }</style>"
      ],
      "text/plain": [
       "<IPython.core.display.HTML object>"
      ]
     },
     "metadata": {},
     "output_type": "display_data"
    }
   ],
   "source": [
    "# 기본 환경 로드\n",
    "%run ./env.ipynb"
   ]
  },
  {
   "cell_type": "markdown",
   "metadata": {},
   "source": [
    "# Exploratory Data Analysis\n",
    "\n",
    "예제 프로젝트 이므로 수집된 데이터에 아주 간단한 EDA 를 진행해봅니다.\n",
    "\n",
    "데이터에 대한 샘플 이미지 출력과 레이블의 분포를 보겠습니다."
   ]
  },
  {
   "cell_type": "code",
   "execution_count": 2,
   "metadata": {},
   "outputs": [
    {
     "name": "stdout",
     "output_type": "stream",
     "text": [
      "sdate: 2018070108\n",
      "path_base: /root/mnt/dfs/notebooks-skp/mnist\n",
      "path_data: /root/mnt/dfs/data/mnist\n"
     ]
    }
   ],
   "source": [
    "from utils import *\n",
    "\n",
    "sdate = get_env_sdate(default = \"2018070108\")\n",
    "path_base = get_env_path_base(default = \"/root/mnt/dfs/notebooks-skp/mnist\")\n",
    "path_data = get_env_path_date(default = \"/root/mnt/dfs/data/mnist\")\n",
    "\n",
    "print(\"sdate: {}\".format(sdate))\n",
    "print(\"path_base: {}\".format(path_base))\n",
    "print(\"path_data: {}\".format(path_data))"
   ]
  },
  {
   "cell_type": "code",
   "execution_count": 3,
   "metadata": {},
   "outputs": [
    {
     "name": "stdout",
     "output_type": "stream",
     "text": [
      "(60000, 28, 28) (60000,)\n",
      "(10000, 28, 28) (10000,)\n"
     ]
    }
   ],
   "source": [
    "# 데이터 로드\n",
    "import os\n",
    "from sklearn.externals import joblib \n",
    "\n",
    "path_raw = os.path.join(path_data, \"raw\")\n",
    "path_raw_sdate = os.path.join(path_raw, sdate)\n",
    "\n",
    "path_train_xs = os.path.join(path_raw_sdate, \"train_xs.pkl\")\n",
    "path_train_ys = os.path.join(path_raw_sdate, \"train_ys.pkl\")\n",
    "np_train_xs = joblib.load(path_train_xs)\n",
    "np_train_ys = joblib.load(path_train_ys)\n",
    "\n",
    "path_test_xs = os.path.join(path_raw_sdate, \"test_xs.pkl\")\n",
    "path_test_ys = os.path.join(path_raw_sdate, \"test_ys.pkl\")\n",
    "np_test_xs = joblib.load(path_test_xs)\n",
    "np_test_ys = joblib.load(path_test_ys)\n",
    "\n",
    "print(np_train_xs.shape, np_train_ys.shape)\n",
    "print(np_test_xs.shape, np_test_ys.shape)"
   ]
  },
  {
   "cell_type": "code",
   "execution_count": 4,
   "metadata": {},
   "outputs": [
    {
     "data": {
      "text/plain": [
       "<matplotlib.image.AxesImage at 0x7f0b5882c898>"
      ]
     },
     "execution_count": 4,
     "metadata": {},
     "output_type": "execute_result"
    },
    {
     "name": "stdout",
     "output_type": "stream",
     "text": [
      "labels: [7, 2, 1, 0, 4, 9, 5]\n"
     ]
    },
    {
     "data": {
      "image/png": "[encoded data removed]",
      "text/plain": [
       "<Figure size 432x288 with 1 Axes>"
      ]
     },
     "metadata": {},
     "output_type": "display_data"
    }
   ],
   "source": [
    "# 샘플 이미지 출력\n",
    "w = np_test_xs.shape[1]\n",
    "h = np_test_xs.shape[2]\n",
    "images = []\n",
    "labels = []\n",
    "for i in range(9):\n",
    "    if np_test_ys[i] in labels:\n",
    "        continue\n",
    "        \n",
    "    images.append(np_test_xs[i].reshape(w, h))\n",
    "    labels.append(np_test_ys[i])\n",
    "        \n",
    "image = np.concatenate(images, axis=1)\n",
    "plt.imshow(image)\n",
    "print(\"labels: {}\".format(labels))"
   ]
  },
  {
   "cell_type": "code",
   "execution_count": 5,
   "metadata": {},
   "outputs": [],
   "source": [
    "import imageio\n",
    "\n",
    "# 추후 API 테스트에 사용할 목적으로 이미지를 저장해봅니다.\n",
    "for i in range(len(images)):\n",
    "    imageio.imwrite(\"./tests/{}.jpg\".format(labels[i]), images[i])"
   ]
  },
  {
   "cell_type": "code",
   "execution_count": 6,
   "metadata": {},
   "outputs": [
    {
     "data": {
      "text/plain": [
       "(array([5923., 6742., 5958., 6131., 5842., 5421., 5918., 6265., 5851.,\n",
       "        5949.]),\n",
       " array([0. , 0.9, 1.8, 2.7, 3.6, 4.5, 5.4, 6.3, 7.2, 8.1, 9. ]),\n",
       " <a list of 10 Patch objects>)"
      ]
     },
     "execution_count": 6,
     "metadata": {},
     "output_type": "execute_result"
    },
    {
     "data": {
      "image/png": "[encoded data removed]",
      "text/plain": [
       "<Figure size 432x288 with 1 Axes>"
      ]
     },
     "metadata": {},
     "output_type": "display_data"
    },
    {
     "data": {
      "text/plain": [
       "(array([ 980., 1135., 1032., 1010.,  982.,  892.,  958., 1028.,  974.,\n",
       "        1009.]),\n",
       " array([0. , 0.9, 1.8, 2.7, 3.6, 4.5, 5.4, 6.3, 7.2, 8.1, 9. ]),\n",
       " <a list of 10 Patch objects>)"
      ]
     },
     "execution_count": 6,
     "metadata": {},
     "output_type": "execute_result"
    },
    {
     "data": {
      "image/png": "[encoded data removed]",
      "text/plain": [
       "<Figure size 432x288 with 1 Axes>"
      ]
     },
     "metadata": {},
     "output_type": "display_data"
    }
   ],
   "source": [
    "# 레이블 데이터 분포 확인\n",
    "plt.hist(np_train_ys)\n",
    "plt.show()\n",
    "plt.hist(np_test_ys)\n",
    "plt.show()"
   ]
  },
  {
   "cell_type": "code",
   "execution_count": null,
   "metadata": {},
   "outputs": [],
   "source": []
  }
 ],
 "metadata": {
  "kernelspec": {
   "display_name": "Python 3",
   "language": "python",
   "name": "python3"
  },
  "language_info": {
   "codemirror_mode": {
    "name": "ipython",
    "version": 3
   },
   "file_extension": ".py",
   "mimetype": "text/x-python",
   "name": "python",
   "nbconvert_exporter": "python",
   "pygments_lexer": "ipython3",
   "version": "3.5.2"
  },
  "toc": {
   "base_numbering": 1,
   "nav_menu": {},
   "number_sections": true,
   "sideBar": true,
   "skip_h1_title": false,
   "title_cell": "Table of Contents",
   "title_sidebar": "Contents",
   "toc_cell": false,
   "toc_position": {},
   "toc_section_display": "block",
   "toc_window_display": false
  }
 },
 "nbformat": 4,
 "nbformat_minor": 2
}
