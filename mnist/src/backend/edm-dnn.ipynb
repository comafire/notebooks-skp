{
 "cells": [
  {
   "cell_type": "code",
   "execution_count": 1,
   "metadata": {},
   "outputs": [
    {
     "data": {
      "text/html": [
       "<style>.container { width:100% !important; }</style>"
      ],
      "text/plain": [
       "<IPython.core.display.HTML object>"
      ]
     },
     "metadata": {},
     "output_type": "display_data"
    }
   ],
   "source": [
    "# 기본 환경 로드\n",
    "%run ./env.ipynb"
   ]
  },
  {
   "cell_type": "markdown",
   "metadata": {},
   "source": [
    "# Evaluate Data Model\n",
    "\n",
    "FDM을 통해 생성된 데이터 모델을 test 데이터 셋을 이용하여 평가합니다."
   ]
  },
  {
   "cell_type": "code",
   "execution_count": 2,
   "metadata": {},
   "outputs": [
    {
     "name": "stdout",
     "output_type": "stream",
     "text": [
      "sdate: 2018070108\n",
      "path_base: /root/mnt/dfs/notebooks-skp/mnist\n",
      "path_data: /root/mnt/dfs/data/mnist\n"
     ]
    }
   ],
   "source": [
    "from utils import *\n",
    "\n",
    "sdate = get_env_sdate(default = \"2018070108\")\n",
    "path_base = get_env_path_base(default = \"/root/mnt/dfs/notebooks-skp/mnist\")\n",
    "path_data = get_env_path_date(default = \"/root/mnt/dfs/data/mnist\")\n",
    "\n",
    "print(\"sdate: {}\".format(sdate))\n",
    "print(\"path_base: {}\".format(path_base))\n",
    "print(\"path_data: {}\".format(path_data))"
   ]
  },
  {
   "cell_type": "code",
   "execution_count": 3,
   "metadata": {},
   "outputs": [
    {
     "name": "stdout",
     "output_type": "stream",
     "text": [
      "(60000, 784) (60000, 10)\n",
      "(10000, 784) (10000, 10)\n"
     ]
    }
   ],
   "source": [
    "# 데이터 로드\n",
    "import os\n",
    "from sklearn.externals import joblib \n",
    "\n",
    "path_etl = os.path.join(path_data, \"etl\")\n",
    "path_etl_sdate = os.path.join(path_etl, sdate)\n",
    "\n",
    "path_train_xs = os.path.join(path_etl_sdate, \"dnn-train_xs.pkl\")\n",
    "path_train_ys = os.path.join(path_etl_sdate, \"dnn-train_ys.pkl\")\n",
    "np_train_xs = joblib.load(path_train_xs)\n",
    "np_train_ys = joblib.load(path_train_ys)\n",
    "print(np_train_xs.shape, np_train_ys.shape)\n",
    "\n",
    "path_test_xs = os.path.join(path_etl_sdate, \"dnn-test_xs.pkl\")\n",
    "path_test_ys = os.path.join(path_etl_sdate, \"dnn-test_ys.pkl\")\n",
    "np_test_xs = joblib.load(path_test_xs)\n",
    "np_test_ys = joblib.load(path_test_ys)\n",
    "print(np_test_xs.shape, np_test_ys.shape)"
   ]
  },
  {
   "cell_type": "code",
   "execution_count": 4,
   "metadata": {},
   "outputs": [],
   "source": [
    "dim_x = np_train_xs.shape[1]\n",
    "n_class = np_train_ys.shape[1]"
   ]
  },
  {
   "cell_type": "code",
   "execution_count": 5,
   "metadata": {},
   "outputs": [
    {
     "name": "stderr",
     "output_type": "stream",
     "text": [
      "Using TensorFlow backend.\n"
     ]
    }
   ],
   "source": [
    "# Keras: set GPU options for Tensorflow Backend\n",
    "import tensorflow as tf\n",
    "from keras import backend as k\n",
    " \n",
    "config = tf.ConfigProto()\n",
    " \n",
    "# Don't pre-allocate memory; allocate as-needed\n",
    "config.gpu_options.allow_growth = True\n",
    " \n",
    "# Only allow a total of half the GPU memory to be allocated\n",
    "# config.gpu_options.per_process_gpu_memory_fraction = 0.5\n",
    " \n",
    "# Create a session with the above options specified.\n",
    "sess = tf.Session(config=config)\n",
    "k.tensorflow_backend.set_session(sess)"
   ]
  },
  {
   "cell_type": "code",
   "execution_count": 6,
   "metadata": {},
   "outputs": [
    {
     "name": "stdout",
     "output_type": "stream",
     "text": [
      "_________________________________________________________________\n",
      "Layer (type)                 Output Shape              Param #   \n",
      "=================================================================\n",
      "dense_1 (Dense)              (None, 256)               200960    \n",
      "_________________________________________________________________\n",
      "activation_1 (Activation)    (None, 256)               0         \n",
      "_________________________________________________________________\n",
      "dense_2 (Dense)              (None, 128)               32896     \n",
      "_________________________________________________________________\n",
      "activation_2 (Activation)    (None, 128)               0         \n",
      "_________________________________________________________________\n",
      "dense_3 (Dense)              (None, 20)                2580      \n",
      "_________________________________________________________________\n",
      "activation_3 (Activation)    (None, 20)                0         \n",
      "_________________________________________________________________\n",
      "dropout_1 (Dropout)          (None, 20)                0         \n",
      "_________________________________________________________________\n",
      "dense_4 (Dense)              (None, 10)                210       \n",
      "=================================================================\n",
      "Total params: 236,646\n",
      "Trainable params: 236,646\n",
      "Non-trainable params: 0\n",
      "_________________________________________________________________\n"
     ]
    }
   ],
   "source": [
    "# 모델 로드\n",
    "from fdm_model import create_dnn\n",
    "\n",
    "model = create_dnn(n_input=dim_x, n_class=n_class)\n",
    "model.summary()"
   ]
  },
  {
   "cell_type": "code",
   "execution_count": 7,
   "metadata": {},
   "outputs": [],
   "source": [
    "# 가중치 로드\n",
    "from keras import callbacks\n",
    "\n",
    "path_fdm = os.path.join(path_data, \"fdm\")\n",
    "path_fdm_sdate = os.path.join(path_fdm, sdate)\n",
    "\n",
    "# path_model = os.path.join(path_fdm_sdate, \"dnn-{epoch:02d}-{val_loss:.2f}.hdf5\")\n",
    "path_model = os.path.join(path_fdm_sdate, \"dnn-best.hdf5\")\n",
    "\n",
    "model.load_weights(path_model)"
   ]
  },
  {
   "cell_type": "code",
   "execution_count": 8,
   "metadata": {},
   "outputs": [
    {
     "name": "stdout",
     "output_type": "stream",
     "text": [
      "(10000, 10)\n"
     ]
    }
   ],
   "source": [
    "with sess.graph.as_default():\n",
    "    np_pred_ys = model.predict(np_test_xs)\n",
    "    print(np_pred_ys.shape)"
   ]
  },
  {
   "cell_type": "code",
   "execution_count": 9,
   "metadata": {},
   "outputs": [
    {
     "name": "stdout",
     "output_type": "stream",
     "text": [
      "\n",
      "\n",
      "             precision    recall  f1-score   support\n",
      "\n",
      "          0       0.98      0.99      0.99       980\n",
      "          1       0.98      0.99      0.99      1135\n",
      "          2       0.99      0.97      0.98      1032\n",
      "          3       0.97      0.98      0.98      1010\n",
      "          4       0.97      0.99      0.98       982\n",
      "          5       0.98      0.97      0.97       892\n",
      "          6       0.98      0.98      0.98       958\n",
      "          7       0.98      0.97      0.97      1028\n",
      "          8       0.98      0.94      0.96       974\n",
      "          9       0.96      0.96      0.96      1009\n",
      "\n",
      "avg / total       0.98      0.98      0.98     10000\n",
      "\n"
     ]
    }
   ],
   "source": [
    "from sklearn import metrics \n",
    "from sklearn.metrics import classification_report\n",
    "\n",
    "np_pred_ys = model.predict_classes(np_test_xs)\n",
    "np_real_ys = np.argmax(np_test_ys, axis=1)\n",
    "\n",
    "print(\"\\n\")\n",
    "print(classification_report(np_real_ys, np_pred_ys))"
   ]
  },
  {
   "cell_type": "markdown",
   "metadata": {},
   "source": [
    "이 프로젝트의 목표인 Accuracy 90% 이상을 상회 하는 결과가 나왔으며 각 분류된 클래스의 precision, recall, f1-score 이 고르게 높은 것으로 보아 잘 훈련된 모델로 평가할 수 있습니다."
   ]
  }
 ],
 "metadata": {
  "kernelspec": {
   "display_name": "Python 3",
   "language": "python",
   "name": "python3"
  },
  "language_info": {
   "codemirror_mode": {
    "name": "ipython",
    "version": 3
   },
   "file_extension": ".py",
   "mimetype": "text/x-python",
   "name": "python",
   "nbconvert_exporter": "python",
   "pygments_lexer": "ipython3",
   "version": "3.5.2"
  },
  "toc": {
   "base_numbering": 1,
   "nav_menu": {},
   "number_sections": true,
   "sideBar": true,
   "skip_h1_title": false,
   "title_cell": "Table of Contents",
   "title_sidebar": "Contents",
   "toc_cell": false,
   "toc_position": {},
   "toc_section_display": "block",
   "toc_window_display": false
  }
 },
 "nbformat": 4,
 "nbformat_minor": 2
}
