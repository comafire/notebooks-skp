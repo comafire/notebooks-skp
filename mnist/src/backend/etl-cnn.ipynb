{
 "cells": [
  {
   "cell_type": "code",
   "execution_count": 1,
   "metadata": {},
   "outputs": [
    {
     "data": {
      "text/html": [
       "<style>.container { width:100% !important; }</style>"
      ],
      "text/plain": [
       "<IPython.core.display.HTML object>"
      ]
     },
     "metadata": {},
     "output_type": "display_data"
    }
   ],
   "source": [
    "# 기본 환경 로드\n",
    "%run ./env.ipynb"
   ]
  },
  {
   "cell_type": "markdown",
   "metadata": {},
   "source": [
    "# ETL\n",
    "\n",
    "EDA를 통해 데이터 분석이 어느정도 완료되면, ETL를 통해 모델링 하기 위한 데이터 셋을 만듭니다."
   ]
  },
  {
   "cell_type": "code",
   "execution_count": 2,
   "metadata": {},
   "outputs": [
    {
     "name": "stdout",
     "output_type": "stream",
     "text": [
      "sdate: 2018070108\n",
      "path_base: /root/mnt/dfs/notebooks-skp/mnist\n",
      "path_data: /root/mnt/dfs/data/mnist\n"
     ]
    }
   ],
   "source": [
    "from utils import *\n",
    "\n",
    "sdate = get_env_sdate(default = \"2018070108\")\n",
    "path_base = get_env_path_base(default = \"/root/mnt/dfs/notebooks-skp/mnist\")\n",
    "path_data = get_env_path_date(default = \"/root/mnt/dfs/data/mnist\")\n",
    "\n",
    "print(\"sdate: {}\".format(sdate))\n",
    "print(\"path_base: {}\".format(path_base))\n",
    "print(\"path_data: {}\".format(path_data))"
   ]
  },
  {
   "cell_type": "code",
   "execution_count": 3,
   "metadata": {},
   "outputs": [
    {
     "name": "stdout",
     "output_type": "stream",
     "text": [
      "(60000, 28, 28) (60000,)\n",
      "(10000, 28, 28) (10000,)\n"
     ]
    }
   ],
   "source": [
    "# 데이터 로드\n",
    "import os\n",
    "from sklearn.externals import joblib \n",
    "\n",
    "path_raw = os.path.join(path_data, \"raw\")\n",
    "path_raw_sdate = os.path.join(path_raw, sdate)\n",
    "\n",
    "path_train_xs = os.path.join(path_raw_sdate, \"train_xs.pkl\")\n",
    "path_train_ys = os.path.join(path_raw_sdate, \"train_ys.pkl\")\n",
    "np_train_xs = joblib.load(path_train_xs)\n",
    "np_train_ys = joblib.load(path_train_ys)\n",
    "print(np_train_xs.shape, np_train_ys.shape)\n",
    "\n",
    "path_test_xs = os.path.join(path_raw_sdate, \"test_xs.pkl\")\n",
    "path_test_ys = os.path.join(path_raw_sdate, \"test_ys.pkl\")\n",
    "np_test_xs = joblib.load(path_test_xs)\n",
    "np_test_ys = joblib.load(path_test_ys)\n",
    "print(np_test_xs.shape, np_test_ys.shape)"
   ]
  },
  {
   "cell_type": "code",
   "execution_count": 4,
   "metadata": {},
   "outputs": [
    {
     "name": "stdout",
     "output_type": "stream",
     "text": [
      "(60000, 784)\n",
      "(10000, 784)\n"
     ]
    }
   ],
   "source": [
    "# 전처리 - 28x28 2D 이미지를 스케일링을 위해 784 1D 로 변환합니다. \n",
    "img_rows, img_cols = np_train_xs.shape[1], np_train_xs.shape[2]\n",
    "dim_x = img_rows * img_cols\n",
    "dim_y = 10\n",
    "np_train_xs = np_train_xs.reshape(-1, dim_x).astype(float)\n",
    "np_test_xs = np_test_xs.reshape(-1, dim_x).astype(float)\n",
    "print(np_train_xs.shape)\n",
    "print(np_test_xs.shape)"
   ]
  },
  {
   "cell_type": "code",
   "execution_count": 5,
   "metadata": {},
   "outputs": [
    {
     "data": {
      "text/plain": [
       "['/root/mnt/dfs/data/mnist/etl/2018070108/cnn-scaler.pkl']"
      ]
     },
     "execution_count": 5,
     "metadata": {},
     "output_type": "execute_result"
    }
   ],
   "source": [
    "# 전처리 - 0~1 사이로 데이터 Min Max Scaling\n",
    "from sklearn import preprocessing\n",
    "\n",
    "scaler = preprocessing.MinMaxScaler(feature_range=(0, 1))\n",
    "np_train_xs = scaler.fit_transform(np_train_xs)\n",
    "\n",
    "path_etl = os.path.join(path_data, \"etl\")\n",
    "path_etl_sdate = os.path.join(path_etl, sdate)\n",
    "os.makedirs(path_etl_sdate, exist_ok=True)\n",
    "\n",
    "path_scaler = os.path.join(path_etl_sdate, \"cnn-scaler.pkl\")\n",
    "joblib.dump(scaler, path_scaler)\n",
    "\n",
    "scaler = joblib.load(path_scaler)\n",
    "np_test_xs = scaler.transform(np_test_xs)"
   ]
  },
  {
   "cell_type": "code",
   "execution_count": 6,
   "metadata": {},
   "outputs": [],
   "source": [
    "# CNN 모델에 맞도록 28x28x1 3D 형대로 변환 합니다.\n",
    "np_train_xs = np_train_xs.reshape(np_train_xs.shape[0], img_rows, img_cols, 1)\n",
    "np_test_xs = np_test_xs.reshape(np_test_xs.shape[0], img_rows, img_cols, 1)\n",
    "input_shape = (img_rows, img_cols, 1)"
   ]
  },
  {
   "cell_type": "code",
   "execution_count": 7,
   "metadata": {},
   "outputs": [
    {
     "name": "stdout",
     "output_type": "stream",
     "text": [
      "[5 0 4 1 9]\n",
      "[[0. 0. 0. 0. 0. 1. 0. 0. 0. 0.]\n",
      " [1. 0. 0. 0. 0. 0. 0. 0. 0. 0.]\n",
      " [0. 0. 0. 0. 1. 0. 0. 0. 0. 0.]\n",
      " [0. 1. 0. 0. 0. 0. 0. 0. 0. 0.]\n",
      " [0. 0. 0. 0. 0. 0. 0. 0. 0. 1.]]\n"
     ]
    }
   ],
   "source": [
    "# 전처리 - 레이블을 Ont Hot 인코팅 \n",
    "from sklearn import preprocessing\n",
    "enc = preprocessing.OneHotEncoder(sparse=False)\n",
    "print(np_train_ys[0:5])\n",
    "np_train_ys = enc.fit_transform(np_train_ys.reshape(-1, 1))\n",
    "print(np_train_ys[0:5])\n",
    "\n",
    "np_test_ys = enc.fit_transform(np_test_ys.reshape(-1, 1))"
   ]
  },
  {
   "cell_type": "code",
   "execution_count": 8,
   "metadata": {},
   "outputs": [
    {
     "data": {
      "text/plain": [
       "['/root/mnt/dfs/data/mnist/etl/2018070108/cnn-train_xs.pkl']"
      ]
     },
     "execution_count": 8,
     "metadata": {},
     "output_type": "execute_result"
    },
    {
     "data": {
      "text/plain": [
       "['/root/mnt/dfs/data/mnist/etl/2018070108/cnn-train_ys.pkl']"
      ]
     },
     "execution_count": 8,
     "metadata": {},
     "output_type": "execute_result"
    },
    {
     "data": {
      "text/plain": [
       "['/root/mnt/dfs/data/mnist/etl/2018070108/cnn-test_xs.pkl']"
      ]
     },
     "execution_count": 8,
     "metadata": {},
     "output_type": "execute_result"
    },
    {
     "data": {
      "text/plain": [
       "['/root/mnt/dfs/data/mnist/etl/2018070108/cnn-test_ys.pkl']"
      ]
     },
     "execution_count": 8,
     "metadata": {},
     "output_type": "execute_result"
    }
   ],
   "source": [
    "# 데이터 저장\n",
    "from sklearn.externals import joblib \n",
    "\n",
    "path_train_xs = os.path.join(path_etl_sdate, \"cnn-train_xs.pkl\")\n",
    "path_train_ys = os.path.join(path_etl_sdate, \"cnn-train_ys.pkl\")\n",
    "joblib.dump(np_train_xs, path_train_xs)\n",
    "joblib.dump(np_train_ys, path_train_ys)\n",
    "\n",
    "path_test_xs = os.path.join(path_etl_sdate, \"cnn-test_xs.pkl\")\n",
    "path_test_ys = os.path.join(path_etl_sdate, \"cnn-test_ys.pkl\")\n",
    "joblib.dump(np_test_xs, path_test_xs)\n",
    "joblib.dump(np_test_ys, path_test_ys)"
   ]
  }
 ],
 "metadata": {
  "kernelspec": {
   "display_name": "Python 3",
   "language": "python",
   "name": "python3"
  },
  "language_info": {
   "codemirror_mode": {
    "name": "ipython",
    "version": 3
   },
   "file_extension": ".py",
   "mimetype": "text/x-python",
   "name": "python",
   "nbconvert_exporter": "python",
   "pygments_lexer": "ipython3",
   "version": "3.5.2"
  },
  "toc": {
   "base_numbering": 1,
   "nav_menu": {},
   "number_sections": true,
   "sideBar": true,
   "skip_h1_title": false,
   "title_cell": "Table of Contents",
   "title_sidebar": "Contents",
   "toc_cell": false,
   "toc_position": {},
   "toc_section_display": "block",
   "toc_window_display": false
  }
 },
 "nbformat": 4,
 "nbformat_minor": 2
}
