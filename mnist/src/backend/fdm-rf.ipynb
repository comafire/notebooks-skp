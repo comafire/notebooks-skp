{
 "cells": [
  {
   "cell_type": "code",
   "execution_count": 1,
   "metadata": {},
   "outputs": [
    {
     "data": {
      "text/html": [
       "<style>.container { width:100% !important; }</style>"
      ],
      "text/plain": [
       "<IPython.core.display.HTML object>"
      ]
     },
     "metadata": {},
     "output_type": "display_data"
    }
   ],
   "source": [
    "# 기본 환경 로드\n",
    "%run ./env.ipynb"
   ]
  },
  {
   "cell_type": "markdown",
   "metadata": {},
   "source": [
    "# Fit Data Model\n",
    "\n",
    "ETL를 통해 생성된 데이터셋을 이용하여 훈련을 통해 데이터 모델을 생성합니다.\n",
    "\n",
    "DNN 모델과 비교를 위해 RandomForest 모델을 훈련해봅니다."
   ]
  },
  {
   "cell_type": "code",
   "execution_count": 2,
   "metadata": {},
   "outputs": [
    {
     "name": "stdout",
     "output_type": "stream",
     "text": [
      "sdate: 2018070108\n",
      "path_base: /root/mnt/dfs/notebooks-skp/mnist\n",
      "path_data: /root/mnt/dfs/data/mnist\n"
     ]
    }
   ],
   "source": [
    "from utils import *\n",
    "\n",
    "sdate = get_env_sdate(default = \"2018070108\")\n",
    "path_base = get_env_path_base(default = \"/root/mnt/dfs/notebooks-skp/mnist\")\n",
    "path_data = get_env_path_date(default = \"/root/mnt/dfs/data/mnist\")\n",
    "\n",
    "print(\"sdate: {}\".format(sdate))\n",
    "print(\"path_base: {}\".format(path_base))\n",
    "print(\"path_data: {}\".format(path_data))"
   ]
  },
  {
   "cell_type": "code",
   "execution_count": 3,
   "metadata": {},
   "outputs": [
    {
     "name": "stdout",
     "output_type": "stream",
     "text": [
      "(60000, 784) (60000,)\n",
      "(10000, 784) (10000,)\n"
     ]
    }
   ],
   "source": [
    "# 데이터 로드\n",
    "import os\n",
    "from sklearn.externals import joblib \n",
    "\n",
    "path_etl = os.path.join(path_data, \"etl\")\n",
    "path_etl_sdate = os.path.join(path_etl, sdate)\n",
    "\n",
    "path_train_xs = os.path.join(path_etl_sdate, \"rf-train_xs.pkl\")\n",
    "path_train_ys = os.path.join(path_etl_sdate, \"rf-train_ys.pkl\")\n",
    "np_train_xs = joblib.load(path_train_xs)\n",
    "np_train_ys = joblib.load(path_train_ys)\n",
    "print(np_train_xs.shape, np_train_ys.shape)\n",
    "\n",
    "path_test_xs = os.path.join(path_etl_sdate, \"rf-test_xs.pkl\")\n",
    "path_test_ys = os.path.join(path_etl_sdate, \"rf-test_ys.pkl\")\n",
    "np_test_xs = joblib.load(path_test_xs)\n",
    "np_test_ys = joblib.load(path_test_ys)\n",
    "print(np_test_xs.shape, np_test_ys.shape)"
   ]
  },
  {
   "cell_type": "code",
   "execution_count": 4,
   "metadata": {},
   "outputs": [],
   "source": [
    "dim_x = np_train_xs.shape[1]\n",
    "n_class = 10"
   ]
  },
  {
   "cell_type": "code",
   "execution_count": 5,
   "metadata": {},
   "outputs": [
    {
     "data": {
      "text/plain": [
       "RandomForestClassifier(bootstrap=True, class_weight=None, criterion='gini',\n",
       "            max_depth=None, max_features='auto', max_leaf_nodes=None,\n",
       "            min_impurity_decrease=0.0, min_impurity_split=None,\n",
       "            min_samples_leaf=1, min_samples_split=2,\n",
       "            min_weight_fraction_leaf=0.0, n_estimators=10, n_jobs=6,\n",
       "            oob_score=False, random_state=None, verbose=0,\n",
       "            warm_start=False)"
      ]
     },
     "execution_count": 5,
     "metadata": {},
     "output_type": "execute_result"
    }
   ],
   "source": [
    "from sklearn import model_selection\n",
    "from sklearn.ensemble import RandomForestClassifier\n",
    "\n",
    "# Create a random forest classifier. By convention, clf means 'classifier'\n",
    "clf = RandomForestClassifier(n_jobs=6)\n",
    "\n",
    "# Train the classifier to take the training features and learn how they relate\n",
    "# to the training y (the species)\n",
    "clf.fit(np_train_xs, np_train_ys)"
   ]
  },
  {
   "cell_type": "code",
   "execution_count": 6,
   "metadata": {},
   "outputs": [],
   "source": [
    "np_pred_ys = clf.predict(np_test_xs)"
   ]
  },
  {
   "cell_type": "code",
   "execution_count": 7,
   "metadata": {},
   "outputs": [
    {
     "name": "stdout",
     "output_type": "stream",
     "text": [
      "\n",
      "\n",
      "             precision    recall  f1-score   support\n",
      "\n",
      "          0       0.94      0.99      0.96       980\n",
      "          1       0.98      0.99      0.99      1135\n",
      "          2       0.92      0.95      0.93      1032\n",
      "          3       0.93      0.94      0.93      1010\n",
      "          4       0.94      0.94      0.94       982\n",
      "          5       0.95      0.92      0.94       892\n",
      "          6       0.97      0.96      0.96       958\n",
      "          7       0.96      0.94      0.95      1028\n",
      "          8       0.94      0.92      0.93       974\n",
      "          9       0.94      0.92      0.93      1009\n",
      "\n",
      "avg / total       0.95      0.95      0.95     10000\n",
      "\n"
     ]
    }
   ],
   "source": [
    "from sklearn import metrics \n",
    "from sklearn.metrics import classification_report\n",
    "\n",
    "print(\"\\n\")\n",
    "print(classification_report(np_test_ys, np_pred_ys))"
   ]
  },
  {
   "cell_type": "markdown",
   "metadata": {},
   "source": [
    "전반적으로 DNN 모델보다 낮은 결과를 보여줌."
   ]
  },
  {
   "cell_type": "code",
   "execution_count": 8,
   "metadata": {
    "scrolled": false
   },
   "outputs": [
    {
     "name": "stdout",
     "output_type": "stream",
     "text": [
      "Feature ranking:\n",
      "1. feature 461 (0.013114)\n",
      "2. feature 407 (0.012046)\n",
      "3. feature 350 (0.011573)\n",
      "4. feature 409 (0.010725)\n",
      "5. feature 406 (0.009718)\n",
      "6. feature 596 (0.009661)\n",
      "7. feature 405 (0.009628)\n",
      "8. feature 211 (0.009123)\n",
      "9. feature 464 (0.009107)\n",
      "10. feature 291 (0.009090)\n",
      "11. feature 428 (0.009062)\n",
      "12. feature 238 (0.008872)\n",
      "13. feature 271 (0.008359)\n",
      "14. feature 183 (0.007793)\n",
      "15. feature 514 (0.007386)\n",
      "16. feature 542 (0.007308)\n",
      "17. feature 380 (0.007260)\n",
      "18. feature 378 (0.007082)\n",
      "19. feature 493 (0.006797)\n",
      "20. feature 345 (0.006776)\n"
     ]
    },
    {
     "data": {
      "text/plain": [
       "<Figure size 1008x1008 with 0 Axes>"
      ]
     },
     "execution_count": 8,
     "metadata": {},
     "output_type": "execute_result"
    },
    {
     "data": {
      "text/plain": [
       "Text(0.5,1,'Feature importances')"
      ]
     },
     "execution_count": 8,
     "metadata": {},
     "output_type": "execute_result"
    },
    {
     "data": {
      "text/plain": [
       "<BarContainer object of 20 artists>"
      ]
     },
     "execution_count": 8,
     "metadata": {},
     "output_type": "execute_result"
    },
    {
     "data": {
      "text/plain": [
       "([<matplotlib.axis.XTick at 0x7f5b1af3a4e0>,\n",
       "  <matplotlib.axis.XTick at 0x7f5b1af995c0>,\n",
       "  <matplotlib.axis.XTick at 0x7f5b1af99278>,\n",
       "  <matplotlib.axis.XTick at 0x7f5b1aef7e48>,\n",
       "  <matplotlib.axis.XTick at 0x7f5b1af07358>,\n",
       "  <matplotlib.axis.XTick at 0x7f5b1af07828>,\n",
       "  <matplotlib.axis.XTick at 0x7f5b1af07d30>,\n",
       "  <matplotlib.axis.XTick at 0x7f5b1af07048>,\n",
       "  <matplotlib.axis.XTick at 0x7f5b1af0b390>,\n",
       "  <matplotlib.axis.XTick at 0x7f5b1af0b898>,\n",
       "  <matplotlib.axis.XTick at 0x7f5b1af0bda0>,\n",
       "  <matplotlib.axis.XTick at 0x7f5b1af112e8>,\n",
       "  <matplotlib.axis.XTick at 0x7f5b1af117f0>,\n",
       "  <matplotlib.axis.XTick at 0x7f5b1af11cf8>,\n",
       "  <matplotlib.axis.XTick at 0x7f5b1af16240>,\n",
       "  <matplotlib.axis.XTick at 0x7f5b1af117b8>,\n",
       "  <matplotlib.axis.XTick at 0x7f5b1af0b978>,\n",
       "  <matplotlib.axis.XTick at 0x7f5b1af16400>,\n",
       "  <matplotlib.axis.XTick at 0x7f5b1af16be0>,\n",
       "  <matplotlib.axis.XTick at 0x7f5b1af1c160>],\n",
       " <a list of 20 Text xticklabel objects>)"
      ]
     },
     "execution_count": 8,
     "metadata": {},
     "output_type": "execute_result"
    },
    {
     "data": {
      "text/plain": [
       "(-1, 20)"
      ]
     },
     "execution_count": 8,
     "metadata": {},
     "output_type": "execute_result"
    },
    {
     "data": {
      "image/png": "[encoded data removed]",
      "text/plain": [
       "<Figure size 1008x1008 with 1 Axes>"
      ]
     },
     "metadata": {},
     "output_type": "display_data"
    }
   ],
   "source": [
    "# RandomForest를 통해 얻은 Importance Feature를 출력해봅니다.\n",
    "\n",
    "top = 20\n",
    "\n",
    "importances = clf.feature_importances_\n",
    "std = np.std([tree.feature_importances_ for tree in clf.estimators_], axis=0)\n",
    "indices = np.argsort(importances)[::-1][:top]\n",
    "\n",
    "# Print the feature ranking\n",
    "print(\"Feature ranking:\")\n",
    "\n",
    "for i, f in enumerate(range(np_train_xs.shape[1])):\n",
    "    print(\"%d. feature %d (%f)\" % (f + 1, indices[f], importances[indices[f]]))\n",
    "    if (i >= top-1):\n",
    "        break\n",
    "\n",
    "# Plot the feature importances of the forest\n",
    "from IPython.core.pylabtools import figsize\n",
    "figsize(14, 14)\n",
    "\n",
    "plt.figure()\n",
    "plt.title(\"Feature importances\")\n",
    "plt.bar(range(top), importances[indices], color=\"r\", yerr=std[indices], align=\"center\")\n",
    "plt.xticks(range(top), indices)\n",
    "plt.xlim([-1, top])\n",
    "plt.show()"
   ]
  },
  {
   "cell_type": "markdown",
   "metadata": {},
   "source": [
    "이미지에서 숫자 부분이 중간 부분에 위치하기 때문에 주요 feature 가 중앙 위치에서 뽑힌 것을 볼 수 있습니다."
   ]
  },
  {
   "cell_type": "code",
   "execution_count": null,
   "metadata": {},
   "outputs": [],
   "source": []
  }
 ],
 "metadata": {
  "kernelspec": {
   "display_name": "Python 3",
   "language": "python",
   "name": "python3"
  },
  "language_info": {
   "codemirror_mode": {
    "name": "ipython",
    "version": 3
   },
   "file_extension": ".py",
   "mimetype": "text/x-python",
   "name": "python",
   "nbconvert_exporter": "python",
   "pygments_lexer": "ipython3",
   "version": "3.5.2"
  },
  "toc": {
   "base_numbering": 1,
   "nav_menu": {},
   "number_sections": true,
   "sideBar": true,
   "skip_h1_title": false,
   "title_cell": "Table of Contents",
   "title_sidebar": "Contents",
   "toc_cell": false,
   "toc_position": {},
   "toc_section_display": true,
   "toc_window_display": false
  }
 },
 "nbformat": 4,
 "nbformat_minor": 2
}
