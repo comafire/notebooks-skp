{
 "cells": [
  {
   "cell_type": "markdown",
   "metadata": {},
   "source": [
    "# README\n",
    "\n",
    "St. Kilda Pier(SKP) 플랫폼 상에서 Data Science Methodology 적용에 대한 예제 프로젝트.\n",
    "\n",
    "MNIST 데이터 셋을 우편 번호 손글씨 인식이라는 가상 프로젝트의 데이터 셋으로 가정하여 SKP 상에서 간단하게 Data Science Methodology 수행해 봅니다.\n",
    "\n",
    "프로젝트 구조\n",
    "* bin: docker container 수행에 필요한 스크립트를 위한 디렉토리\n",
    "* doc: 문서를 위한 디렉토리\n",
    "* etc: docker container 에 필요한 설정을 위한 디렉토리\n",
    "* src: 프로젝트 소스 디렉토리\n"
   ]
  }
 ],
 "metadata": {
  "kernelspec": {
   "display_name": "Python 3",
   "language": "python",
   "name": "python3"
  },
  "language_info": {
   "codemirror_mode": {
    "name": "ipython",
    "version": 3
   },
   "file_extension": ".py",
   "mimetype": "text/x-python",
   "name": "python",
   "nbconvert_exporter": "python",
   "pygments_lexer": "ipython3",
   "version": "3.5.2"
  },
  "toc": {
   "base_numbering": 1,
   "nav_menu": {},
   "number_sections": true,
   "sideBar": true,
   "skip_h1_title": false,
   "title_cell": "Table of Contents",
   "title_sidebar": "Contents",
   "toc_cell": false,
   "toc_position": {},
   "toc_section_display": "block",
   "toc_window_display": false
  }
 },
 "nbformat": 4,
 "nbformat_minor": 2
}
